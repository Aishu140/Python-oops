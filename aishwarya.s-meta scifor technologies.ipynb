{
  "nbformat": 4,
  "nbformat_minor": 0,
  "metadata": {
    "colab": {
      "provenance": []
    },
    "kernelspec": {
      "name": "python3",
      "display_name": "Python 3"
    },
    "language_info": {
      "name": "python"
    }
  },
  "cells": [
    {
      "cell_type": "code",
      "execution_count": null,
      "metadata": {
        "colab": {
          "base_uri": "https://localhost:8080/"
        },
        "id": "R3fcMdXZICTR",
        "outputId": "49dad839-fcf0-4ebf-b6f8-a13c8856a609"
      },
      "outputs": [
        {
          "output_type": "stream",
          "name": "stdout",
          "text": [
            "Enter a number: 5\n",
            "5 is an odd number\n"
          ]
        }
      ],
      "source": [
        "#Write a Python program to check if a number is even or odd.\n",
        "def check_even_odd(num):\n",
        "    if num % 2 == 0:\n",
        "        print(f\"{num} is an even number\")\n",
        "    else:\n",
        "        print(f\"{num} is an odd number\")\n",
        "number = int(input(\"Enter a number: \"))\n",
        "check_even_odd(number)"
      ]
    },
    {
      "cell_type": "code",
      "source": [
        "#Write a Python function to reverse a string without using built-in functions.\n",
        "def reverse_string(s):\n",
        "    result = \"\"\n",
        "    for char in s:\n",
        "        result = char + result\n",
        "    return result\n",
        "text = input(\"Enter a string: \")\n",
        "print(\"Reversed string:\", reverse_string(text))"
      ],
      "metadata": {
        "colab": {
          "base_uri": "https://localhost:8080/"
        },
        "id": "Dwtv3QueIgsq",
        "outputId": "a2abfc16-01f4-44a9-c060-827df5795989"
      },
      "execution_count": null,
      "outputs": [
        {
          "output_type": "stream",
          "name": "stdout",
          "text": [
            "Enter a string: \"hello\"\n",
            "Reversed string: \"olleh\"\n"
          ]
        }
      ]
    },
    {
      "cell_type": "code",
      "source": [
        "#Write a Python program to find the largest number in a given list.\n",
        "def find_largest(nums):\n",
        "    if not nums:\n",
        "        return None\n",
        "    largest = nums[0]\n",
        "    for num in nums:\n",
        "        if num > largest:\n",
        "            largest = num\n",
        "    return largest\n",
        "numbers = [10, 1000, 20, 32, 14, 4]\n",
        "print(\"Largest number:\", find_largest(numbers))\n"
      ],
      "metadata": {
        "colab": {
          "base_uri": "https://localhost:8080/"
        },
        "id": "F0IWTcu_KkJN",
        "outputId": "be3bf54d-925e-4397-c31b-50d771317c1f"
      },
      "execution_count": null,
      "outputs": [
        {
          "output_type": "stream",
          "name": "stdout",
          "text": [
            "Largest number: 1000\n"
          ]
        }
      ]
    },
    {
      "cell_type": "code",
      "source": [
        "#Write a Python function to check if a given string is a palindrome.\n",
        "def is_palindrome(s):\n",
        "    s = s.lower()  #\n",
        "    return s == s[::-1]\n",
        "\n",
        "word = input(\"Enter a string: \")\n",
        "if is_palindrome(word):\n",
        "    print(\"It's a palindrome!\")\n",
        "else:\n",
        "    print(\"Not a palindrome!\")"
      ],
      "metadata": {
        "colab": {
          "base_uri": "https://localhost:8080/"
        },
        "id": "lrm_0BaELM9d",
        "outputId": "2bdac50a-9ae1-4a6b-9438-b06d64bd2977"
      },
      "execution_count": null,
      "outputs": [
        {
          "output_type": "stream",
          "name": "stdout",
          "text": [
            "Enter a string: thank you\n",
            "Not a palindrome!\n"
          ]
        }
      ]
    },
    {
      "cell_type": "code",
      "source": [
        "#Write a Python program to count the occurrences of each character in a given string.\n",
        "def count_characters(s):\n",
        "    char_count = {}\n",
        "\n",
        "    for char in s:\n",
        "        if char in char_count:\n",
        "            char_count[char] += 1\n",
        "        else:\n",
        "            char_count[char] = 1\n",
        "    return char_count\n",
        "text = input(\"Enter a string: \")\n",
        "counts = count_characters(text)\n",
        "for char, count in counts.items():\n",
        "    print(f\"'{char}' appears {count} times\")"
      ],
      "metadata": {
        "colab": {
          "base_uri": "https://localhost:8080/"
        },
        "id": "_blaSTMcL1K_",
        "outputId": "8c706f9c-74e8-4ee7-df98-71d4f7e321b8"
      },
      "execution_count": null,
      "outputs": [
        {
          "output_type": "stream",
          "name": "stdout",
          "text": [
            "Enter a string: \"welcome\"\n",
            "'\"' appears 2 times\n",
            "'w' appears 1 times\n",
            "'e' appears 2 times\n",
            "'l' appears 1 times\n",
            "'c' appears 1 times\n",
            "'o' appears 1 times\n",
            "'m' appears 1 times\n"
          ]
        }
      ]
    },
    {
      "cell_type": "code",
      "source": [
        "#What is the difference between a class and an object in Python?\n",
        "#A class is a blueprint or template for creating objects.\n",
        "#It defines the structure (attributes) and behavior (methods) that the objects created from it will have.\n",
        "#OBJECT-An object is an instance of a class.\n",
        "#It is a concrete entity created from the class blueprint and occupies memory.\n",
        "#Objects have the attributes and methods defined in the class.\n",
        "#In example, student1 and student2 are objects of the Student class.\n",
        "# Define a class (blueprint)\n",
        "class Student:\n",
        "    def __init__(self, name, age, grade):\n",
        "        self.name = name\n",
        "        self.age = age\n",
        "        self.grade = grade\n",
        "\n",
        "    def display_info(self):\n",
        "        print(f\"Student: {self.name}, Age: {self.age}, Grade: {self.grade}\")\n",
        "student1 = Student(\"Rupa\", 15, \"10th\")\n",
        "student2 = Student(\"Rob\", 18, \"12th\")\n",
        "student1.display_info()\n",
        "student2.display_info()\n"
      ],
      "metadata": {
        "colab": {
          "base_uri": "https://localhost:8080/"
        },
        "id": "p4cYWClZMwoN",
        "outputId": "1feede0b-350d-4a05-8df1-12a18f2a8dfc"
      },
      "execution_count": null,
      "outputs": [
        {
          "output_type": "stream",
          "name": "stdout",
          "text": [
            "Student: Rupa, Age: 15, Grade: 10th\n",
            "Student: Rob, Age: 18, Grade: 12th\n"
          ]
        }
      ]
    },
    {
      "cell_type": "code",
      "source": [
        "#Explain the concept of inheritance with an example in Python.\n",
        "#Parent Class (Vehicle):\n",
        "#Defines a method move() that prints a generic message: \"Vehicle is moving\".\n",
        "#Child Class (Car):\n",
        "#Inherits from the Vehicle class using class Car(Vehicle).\n",
        "#Overrides the move() method to provide a specific implementation: \"Car is driving on the road\".\n",
        "#Objects:\n",
        "#v is an object of the Vehicle class. When v.move() is called, it uses the move() method from the Vehicle class.\n",
        "#c is an object of the Car class. When c.move() is called, it uses the overridden move() method from the Car class.\n",
        "# Parent class\n",
        "class Vehicle:\n",
        "    def move(self):\n",
        "        print(\"Vehicle is moving\")\n",
        "# Child class inheriting from Vehicle\n",
        "class Car(Vehicle):\n",
        "    def move(self):\n",
        "        print(\"Car is driving on the road\")\n",
        "# Create objects\n",
        "v = Vehicle()\n",
        "c = Car()\n",
        "# Call methods\n",
        "v.move()\n",
        "c.move()"
      ],
      "metadata": {
        "colab": {
          "base_uri": "https://localhost:8080/"
        },
        "id": "pNnnU6r1OST3",
        "outputId": "2f928516-edeb-421d-99ba-38a05fdad1ad"
      },
      "execution_count": null,
      "outputs": [
        {
          "output_type": "stream",
          "name": "stdout",
          "text": [
            "Vehicle is moving\n",
            "Car is driving on the road\n"
          ]
        }
      ]
    },
    {
      "cell_type": "code",
      "source": [
        "#What is method overriding in Python? Provide an example.\n",
        "#Method overriding allows a child class to provide a specific implementation of a method defined in the parent class.\n",
        "# Parent class\n",
        "class Shape:\n",
        "    def draw(self):\n",
        "        print(\"Drawing a shape\")\n",
        "# Child class inheriting from Shape\n",
        "class Circle(Shape):\n",
        "    def draw(self):  # Override the draw method\n",
        "        print(\"Drawing a circle\")\n",
        "# Create objects\n",
        "s = Shape()\n",
        "c = Circle()\n",
        "\n",
        "# Call methods\n",
        "s.draw()\n",
        "c.draw()"
      ],
      "metadata": {
        "colab": {
          "base_uri": "https://localhost:8080/"
        },
        "id": "_-WRtRW-Py2v",
        "outputId": "3ae012cd-2ac5-4187-f4b1-1633f6719e88"
      },
      "execution_count": null,
      "outputs": [
        {
          "output_type": "stream",
          "name": "stdout",
          "text": [
            "Drawing a shape\n",
            "Drawing a circle\n"
          ]
        }
      ]
    },
    {
      "cell_type": "markdown",
      "source": [],
      "metadata": {
        "id": "6E10yeR-Rar4"
      }
    },
    {
      "cell_type": "code",
      "source": [
        "#What is the difference between an instance method, class method, and static method in Python?\n",
        "class Sample:\n",
        "    class_variable = \"I am a class variable\"\n",
        "\n",
        "    def __init__(self, name):\n",
        "        self.name = name #Instant variable\n",
        "\n",
        "    def instance_method(self):\n",
        "        return f\"My name is {self.name}\" #Instant method\n",
        "\n",
        "    @classmethod\n",
        "    def class_method(cls):  # 'cls' is now a class reference\n",
        "        return f\"Class method called: {cls.class_variable}\"\n",
        "\n",
        "    @staticmethod\n",
        "    def static_method():  # No 'self' or 'cls' used\n",
        "        return \"Static method called\"\n",
        "#create an object\n",
        "obj = Sample(\"AISHWARYA\")\n",
        "#call methods\n",
        "print(obj.instance_method())\n",
        "print(Sample.class_method())\n",
        "print(Sample.static_method())\n"
      ],
      "metadata": {
        "id": "PrqEcNJvQaw7",
        "colab": {
          "base_uri": "https://localhost:8080/"
        },
        "outputId": "7ec28099-281f-4a2a-f008-ea914763122b"
      },
      "execution_count": null,
      "outputs": [
        {
          "output_type": "stream",
          "name": "stdout",
          "text": [
            "My name is AISHWARYA\n",
            "Class method called: I am a class variable\n",
            "Static method called\n"
          ]
        }
      ]
    },
    {
      "cell_type": "code",
      "source": [
        "#5. Explain the significance of encapsulation in Python with an example\n",
        "#Encapsulation helps protect the internal state of an object and ensures controlled access to its data.\n",
        "class Person:\n",
        "    def __init__(self, name, age):\n",
        "        self.name = name\n",
        "        self.__age = age\n",
        "\n",
        "    def get_age(self):\n",
        "        return self.__age\n",
        "\n",
        "    def set_age(self, age):\n",
        "        if age > 0:\n",
        "            self.__age = age\n",
        "        else:\n",
        "            print(\"Age must be positive.\")\n",
        "\n",
        "# Create an object\n",
        "person = Person(\"John\", 30)\n",
        "# Access public attribute\n",
        "print(f\"Name: {person.name}\")\n",
        "print(f\"Age: {person.get_age()}\")\n",
        "person.set_age(35)\n",
        "print(f\"Updated Age: {person.get_age()}\")"
      ],
      "metadata": {
        "colab": {
          "base_uri": "https://localhost:8080/"
        },
        "id": "NyWK62BwSUH0",
        "outputId": "34e35dba-830e-4581-bd05-b6247fab541d"
      },
      "execution_count": null,
      "outputs": [
        {
          "output_type": "stream",
          "name": "stdout",
          "text": [
            "Name: John\n",
            "Age: 30\n",
            "Updated Age: 35\n"
          ]
        }
      ]
    },
    {
      "cell_type": "code",
      "source": [],
      "metadata": {
        "id": "63KAnX8tlrqC"
      },
      "execution_count": null,
      "outputs": []
    }
  ]
}